{
 "cells": [
  {
   "cell_type": "markdown",
   "id": "61619c7e-7d07-427c-96c9-d8f9ada9a407",
   "metadata": {},
   "source": [
    "# Stress Predictor "
   ]
  },
  {
   "cell_type": "code",
   "execution_count": 163,
   "id": "a842adbd-d658-4958-bb1c-d63685e2bcd8",
   "metadata": {},
   "outputs": [
    {
     "name": "stdout",
     "output_type": "stream",
     "text": [
      "Requirement already satisfied: pandas in /Library/Frameworks/Python.framework/Versions/3.12/lib/python3.12/site-packages (2.1.4)\n",
      "Requirement already satisfied: numpy<2,>=1.26.0 in /Library/Frameworks/Python.framework/Versions/3.12/lib/python3.12/site-packages (from pandas) (1.26.2)\n",
      "Requirement already satisfied: python-dateutil>=2.8.2 in /Library/Frameworks/Python.framework/Versions/3.12/lib/python3.12/site-packages (from pandas) (2.8.2)\n",
      "Requirement already satisfied: pytz>=2020.1 in /Library/Frameworks/Python.framework/Versions/3.12/lib/python3.12/site-packages (from pandas) (2025.2)\n",
      "Requirement already satisfied: tzdata>=2022.1 in /Library/Frameworks/Python.framework/Versions/3.12/lib/python3.12/site-packages (from pandas) (2023.3)\n",
      "Requirement already satisfied: six>=1.5 in /Library/Frameworks/Python.framework/Versions/3.12/lib/python3.12/site-packages (from python-dateutil>=2.8.2->pandas) (1.16.0)\n",
      "Note: you may need to restart the kernel to use updated packages.\n"
     ]
    }
   ],
   "source": [
    "pip install pandas"
   ]
  },
  {
   "cell_type": "code",
   "execution_count": 164,
   "id": "82a6ecd1-89b1-489f-82d6-0f7833f0eef7",
   "metadata": {},
   "outputs": [
    {
     "name": "stdout",
     "output_type": "stream",
     "text": [
      "Requirement already satisfied: matplotlib in /Library/Frameworks/Python.framework/Versions/3.12/lib/python3.12/site-packages (3.9.0)\n",
      "Requirement already satisfied: contourpy>=1.0.1 in /Library/Frameworks/Python.framework/Versions/3.12/lib/python3.12/site-packages (from matplotlib) (1.2.1)\n",
      "Requirement already satisfied: cycler>=0.10 in /Library/Frameworks/Python.framework/Versions/3.12/lib/python3.12/site-packages (from matplotlib) (0.12.1)\n",
      "Requirement already satisfied: fonttools>=4.22.0 in /Library/Frameworks/Python.framework/Versions/3.12/lib/python3.12/site-packages (from matplotlib) (4.53.0)\n",
      "Requirement already satisfied: kiwisolver>=1.3.1 in /Library/Frameworks/Python.framework/Versions/3.12/lib/python3.12/site-packages (from matplotlib) (1.4.5)\n",
      "Requirement already satisfied: numpy>=1.23 in /Library/Frameworks/Python.framework/Versions/3.12/lib/python3.12/site-packages (from matplotlib) (1.26.2)\n",
      "Requirement already satisfied: packaging>=20.0 in /Library/Frameworks/Python.framework/Versions/3.12/lib/python3.12/site-packages (from matplotlib) (23.2)\n",
      "Requirement already satisfied: pillow>=8 in /Library/Frameworks/Python.framework/Versions/3.12/lib/python3.12/site-packages (from matplotlib) (10.1.0)\n",
      "Requirement already satisfied: pyparsing>=2.3.1 in /Library/Frameworks/Python.framework/Versions/3.12/lib/python3.12/site-packages (from matplotlib) (3.1.2)\n",
      "Requirement already satisfied: python-dateutil>=2.7 in /Library/Frameworks/Python.framework/Versions/3.12/lib/python3.12/site-packages (from matplotlib) (2.8.2)\n",
      "Requirement already satisfied: six>=1.5 in /Library/Frameworks/Python.framework/Versions/3.12/lib/python3.12/site-packages (from python-dateutil>=2.7->matplotlib) (1.16.0)\n",
      "Note: you may need to restart the kernel to use updated packages.\n"
     ]
    }
   ],
   "source": [
    "pip install matplotlib"
   ]
  },
  {
   "cell_type": "code",
   "execution_count": 165,
   "id": "ea0ecddf-eeb8-41eb-bbff-7ff4c7f42615",
   "metadata": {},
   "outputs": [
    {
     "name": "stdout",
     "output_type": "stream",
     "text": [
      "Requirement already satisfied: scikit-learn in /Library/Frameworks/Python.framework/Versions/3.12/lib/python3.12/site-packages (1.7.1)\n",
      "Requirement already satisfied: numpy>=1.22.0 in /Library/Frameworks/Python.framework/Versions/3.12/lib/python3.12/site-packages (from scikit-learn) (1.26.2)\n",
      "Requirement already satisfied: scipy>=1.8.0 in /Library/Frameworks/Python.framework/Versions/3.12/lib/python3.12/site-packages (from scikit-learn) (1.11.4)\n",
      "Requirement already satisfied: joblib>=1.2.0 in /Library/Frameworks/Python.framework/Versions/3.12/lib/python3.12/site-packages (from scikit-learn) (1.5.1)\n",
      "Requirement already satisfied: threadpoolctl>=3.1.0 in /Library/Frameworks/Python.framework/Versions/3.12/lib/python3.12/site-packages (from scikit-learn) (3.6.0)\n",
      "Note: you may need to restart the kernel to use updated packages.\n"
     ]
    }
   ],
   "source": [
    "pip install scikit-learn"
   ]
  },
  {
   "cell_type": "code",
   "execution_count": 166,
   "id": "18329478-4c5e-4947-ae71-0a5d5aba8234",
   "metadata": {},
   "outputs": [],
   "source": [
    "import pandas as pd"
   ]
  },
  {
   "cell_type": "code",
   "execution_count": 167,
   "id": "b4cb4cc5-573d-49e1-aad9-a4e0c0665533",
   "metadata": {},
   "outputs": [],
   "source": [
    "import matplotlib.pyplot as plt"
   ]
  },
  {
   "cell_type": "code",
   "execution_count": 168,
   "id": "3bd8e38c-492f-4819-8617-b00b71ce1f6e",
   "metadata": {},
   "outputs": [],
   "source": [
    "df = pd.read_csv('academic Stress level - maintainance 1.csv')"
   ]
  },
  {
   "cell_type": "code",
   "execution_count": 169,
   "id": "b1663c85-9ca9-40ec-a6f7-78dbc94ecdff",
   "metadata": {},
   "outputs": [
    {
     "data": {
      "text/html": [
       "<div>\n",
       "<style scoped>\n",
       "    .dataframe tbody tr th:only-of-type {\n",
       "        vertical-align: middle;\n",
       "    }\n",
       "\n",
       "    .dataframe tbody tr th {\n",
       "        vertical-align: top;\n",
       "    }\n",
       "\n",
       "    .dataframe thead th {\n",
       "        text-align: right;\n",
       "    }\n",
       "</style>\n",
       "<table border=\"1\" class=\"dataframe\">\n",
       "  <thead>\n",
       "    <tr style=\"text-align: right;\">\n",
       "      <th></th>\n",
       "      <th>Timestamp</th>\n",
       "      <th>Your Academic Stage</th>\n",
       "      <th>Peer pressure</th>\n",
       "      <th>Academic pressure from your home</th>\n",
       "      <th>Study Environment</th>\n",
       "      <th>What coping strategy you use as a student?</th>\n",
       "      <th>Do you have any bad habits like smoking, drinking on a daily basis?</th>\n",
       "      <th>What would you rate the academic  competition in your student life</th>\n",
       "      <th>Rate your academic stress index</th>\n",
       "    </tr>\n",
       "  </thead>\n",
       "  <tbody>\n",
       "    <tr>\n",
       "      <th>0</th>\n",
       "      <td>24/07/2025 22:05:39</td>\n",
       "      <td>undergraduate</td>\n",
       "      <td>4</td>\n",
       "      <td>5</td>\n",
       "      <td>Noisy</td>\n",
       "      <td>Analyze the situation and handle it with intel...</td>\n",
       "      <td>No</td>\n",
       "      <td>3</td>\n",
       "      <td>5</td>\n",
       "    </tr>\n",
       "    <tr>\n",
       "      <th>1</th>\n",
       "      <td>24/07/2025 22:05:52</td>\n",
       "      <td>undergraduate</td>\n",
       "      <td>3</td>\n",
       "      <td>4</td>\n",
       "      <td>Peaceful</td>\n",
       "      <td>Analyze the situation and handle it with intel...</td>\n",
       "      <td>No</td>\n",
       "      <td>3</td>\n",
       "      <td>3</td>\n",
       "    </tr>\n",
       "    <tr>\n",
       "      <th>2</th>\n",
       "      <td>24/07/2025 22:06:39</td>\n",
       "      <td>undergraduate</td>\n",
       "      <td>1</td>\n",
       "      <td>1</td>\n",
       "      <td>Peaceful</td>\n",
       "      <td>Social support (friends, family)</td>\n",
       "      <td>No</td>\n",
       "      <td>2</td>\n",
       "      <td>4</td>\n",
       "    </tr>\n",
       "  </tbody>\n",
       "</table>\n",
       "</div>"
      ],
      "text/plain": [
       "             Timestamp Your Academic Stage  Peer pressure  \\\n",
       "0  24/07/2025 22:05:39       undergraduate              4   \n",
       "1  24/07/2025 22:05:52       undergraduate              3   \n",
       "2  24/07/2025 22:06:39       undergraduate              1   \n",
       "\n",
       "   Academic pressure from your home Study Environment  \\\n",
       "0                                 5             Noisy   \n",
       "1                                 4          Peaceful   \n",
       "2                                 1          Peaceful   \n",
       "\n",
       "          What coping strategy you use as a student?  \\\n",
       "0  Analyze the situation and handle it with intel...   \n",
       "1  Analyze the situation and handle it with intel...   \n",
       "2                   Social support (friends, family)   \n",
       "\n",
       "  Do you have any bad habits like smoking, drinking on a daily basis?  \\\n",
       "0                                                 No                    \n",
       "1                                                 No                    \n",
       "2                                                 No                    \n",
       "\n",
       "   What would you rate the academic  competition in your student life  \\\n",
       "0                                                  3                    \n",
       "1                                                  3                    \n",
       "2                                                  2                    \n",
       "\n",
       "   Rate your academic stress index   \n",
       "0                                 5  \n",
       "1                                 3  \n",
       "2                                 4  "
      ]
     },
     "execution_count": 169,
     "metadata": {},
     "output_type": "execute_result"
    }
   ],
   "source": [
    "df.head(3)"
   ]
  },
  {
   "cell_type": "code",
   "execution_count": 170,
   "id": "f64e3689-1f01-4d7d-8e77-209e66f53fa7",
   "metadata": {},
   "outputs": [
    {
     "data": {
      "text/html": [
       "<div>\n",
       "<style scoped>\n",
       "    .dataframe tbody tr th:only-of-type {\n",
       "        vertical-align: middle;\n",
       "    }\n",
       "\n",
       "    .dataframe tbody tr th {\n",
       "        vertical-align: top;\n",
       "    }\n",
       "\n",
       "    .dataframe thead th {\n",
       "        text-align: right;\n",
       "    }\n",
       "</style>\n",
       "<table border=\"1\" class=\"dataframe\">\n",
       "  <thead>\n",
       "    <tr style=\"text-align: right;\">\n",
       "      <th></th>\n",
       "      <th>Peer pressure</th>\n",
       "      <th>Academic pressure from your home</th>\n",
       "      <th>What would you rate the academic  competition in your student life</th>\n",
       "      <th>Rate your academic stress index</th>\n",
       "    </tr>\n",
       "  </thead>\n",
       "  <tbody>\n",
       "    <tr>\n",
       "      <th>count</th>\n",
       "      <td>140.000000</td>\n",
       "      <td>140.000000</td>\n",
       "      <td>140.000000</td>\n",
       "      <td>140.000000</td>\n",
       "    </tr>\n",
       "    <tr>\n",
       "      <th>mean</th>\n",
       "      <td>3.071429</td>\n",
       "      <td>3.178571</td>\n",
       "      <td>3.492857</td>\n",
       "      <td>3.721429</td>\n",
       "    </tr>\n",
       "    <tr>\n",
       "      <th>std</th>\n",
       "      <td>1.083844</td>\n",
       "      <td>1.276618</td>\n",
       "      <td>1.028349</td>\n",
       "      <td>1.032339</td>\n",
       "    </tr>\n",
       "    <tr>\n",
       "      <th>min</th>\n",
       "      <td>1.000000</td>\n",
       "      <td>1.000000</td>\n",
       "      <td>1.000000</td>\n",
       "      <td>1.000000</td>\n",
       "    </tr>\n",
       "    <tr>\n",
       "      <th>25%</th>\n",
       "      <td>2.000000</td>\n",
       "      <td>2.000000</td>\n",
       "      <td>3.000000</td>\n",
       "      <td>3.000000</td>\n",
       "    </tr>\n",
       "    <tr>\n",
       "      <th>50%</th>\n",
       "      <td>3.000000</td>\n",
       "      <td>3.000000</td>\n",
       "      <td>4.000000</td>\n",
       "      <td>4.000000</td>\n",
       "    </tr>\n",
       "    <tr>\n",
       "      <th>75%</th>\n",
       "      <td>4.000000</td>\n",
       "      <td>4.000000</td>\n",
       "      <td>4.000000</td>\n",
       "      <td>4.000000</td>\n",
       "    </tr>\n",
       "    <tr>\n",
       "      <th>max</th>\n",
       "      <td>5.000000</td>\n",
       "      <td>5.000000</td>\n",
       "      <td>5.000000</td>\n",
       "      <td>5.000000</td>\n",
       "    </tr>\n",
       "  </tbody>\n",
       "</table>\n",
       "</div>"
      ],
      "text/plain": [
       "       Peer pressure  Academic pressure from your home  \\\n",
       "count     140.000000                        140.000000   \n",
       "mean        3.071429                          3.178571   \n",
       "std         1.083844                          1.276618   \n",
       "min         1.000000                          1.000000   \n",
       "25%         2.000000                          2.000000   \n",
       "50%         3.000000                          3.000000   \n",
       "75%         4.000000                          4.000000   \n",
       "max         5.000000                          5.000000   \n",
       "\n",
       "       What would you rate the academic  competition in your student life  \\\n",
       "count                                         140.000000                    \n",
       "mean                                            3.492857                    \n",
       "std                                             1.028349                    \n",
       "min                                             1.000000                    \n",
       "25%                                             3.000000                    \n",
       "50%                                             4.000000                    \n",
       "75%                                             4.000000                    \n",
       "max                                             5.000000                    \n",
       "\n",
       "       Rate your academic stress index   \n",
       "count                        140.000000  \n",
       "mean                           3.721429  \n",
       "std                            1.032339  \n",
       "min                            1.000000  \n",
       "25%                            3.000000  \n",
       "50%                            4.000000  \n",
       "75%                            4.000000  \n",
       "max                            5.000000  "
      ]
     },
     "execution_count": 170,
     "metadata": {},
     "output_type": "execute_result"
    }
   ],
   "source": [
    "df.describe()"
   ]
  },
  {
   "cell_type": "code",
   "execution_count": 171,
   "id": "c848934e-fc8f-4a25-bbad-a82d570179a2",
   "metadata": {},
   "outputs": [
    {
     "name": "stdout",
     "output_type": "stream",
     "text": [
      "<class 'pandas.core.frame.DataFrame'>\n",
      "RangeIndex: 140 entries, 0 to 139\n",
      "Data columns (total 9 columns):\n",
      " #   Column                                                               Non-Null Count  Dtype \n",
      "---  ------                                                               --------------  ----- \n",
      " 0   Timestamp                                                            140 non-null    object\n",
      " 1   Your Academic Stage                                                  140 non-null    object\n",
      " 2   Peer pressure                                                        140 non-null    int64 \n",
      " 3   Academic pressure from your home                                     140 non-null    int64 \n",
      " 4   Study Environment                                                    139 non-null    object\n",
      " 5   What coping strategy you use as a student?                           140 non-null    object\n",
      " 6   Do you have any bad habits like smoking, drinking on a daily basis?  140 non-null    object\n",
      " 7   What would you rate the academic  competition in your student life   140 non-null    int64 \n",
      " 8   Rate your academic stress index                                      140 non-null    int64 \n",
      "dtypes: int64(4), object(5)\n",
      "memory usage: 10.0+ KB\n"
     ]
    }
   ],
   "source": [
    "df.info()"
   ]
  },
  {
   "cell_type": "code",
   "execution_count": 172,
   "id": "9a915522-57cc-4a22-98a6-44590dacfd6d",
   "metadata": {},
   "outputs": [
    {
     "data": {
      "text/plain": [
       "Timestamp                                                              0\n",
       "Your Academic Stage                                                    0\n",
       "Peer pressure                                                          0\n",
       "Academic pressure from your home                                       0\n",
       "Study Environment                                                      1\n",
       "What coping strategy you use as a student?                             0\n",
       "Do you have any bad habits like smoking, drinking on a daily basis?    0\n",
       "What would you rate the academic  competition in your student life     0\n",
       "Rate your academic stress index                                        0\n",
       "dtype: int64"
      ]
     },
     "execution_count": 172,
     "metadata": {},
     "output_type": "execute_result"
    }
   ],
   "source": [
    "df.isnull().sum()"
   ]
  },
  {
   "cell_type": "code",
   "execution_count": 173,
   "id": "83f612e4-7846-41db-b556-3e68a3775588",
   "metadata": {},
   "outputs": [],
   "source": [
    "df = df.dropna()"
   ]
  },
  {
   "cell_type": "code",
   "execution_count": 174,
   "id": "4112b1fb-cfad-41a3-8100-cd54b4978b53",
   "metadata": {},
   "outputs": [
    {
     "data": {
      "text/plain": [
       "Timestamp                                                              0\n",
       "Your Academic Stage                                                    0\n",
       "Peer pressure                                                          0\n",
       "Academic pressure from your home                                       0\n",
       "Study Environment                                                      0\n",
       "What coping strategy you use as a student?                             0\n",
       "Do you have any bad habits like smoking, drinking on a daily basis?    0\n",
       "What would you rate the academic  competition in your student life     0\n",
       "Rate your academic stress index                                        0\n",
       "dtype: int64"
      ]
     },
     "execution_count": 174,
     "metadata": {},
     "output_type": "execute_result"
    }
   ],
   "source": [
    "df.isnull().sum()"
   ]
  },
  {
   "cell_type": "code",
   "execution_count": 175,
   "id": "16635371-77b4-44fe-9b90-056ac3e5f54a",
   "metadata": {
    "scrolled": true
   },
   "outputs": [],
   "source": [
    "df = df.drop(['Timestamp', 'What coping strategy you use as a student?'], axis=1)"
   ]
  },
  {
   "cell_type": "code",
   "execution_count": 176,
   "id": "7439f721-e2d2-4774-8e9d-f5b85fd155c7",
   "metadata": {},
   "outputs": [
    {
     "name": "stdout",
     "output_type": "stream",
     "text": [
      "<class 'pandas.core.frame.DataFrame'>\n",
      "Index: 139 entries, 0 to 139\n",
      "Data columns (total 7 columns):\n",
      " #   Column                                                               Non-Null Count  Dtype \n",
      "---  ------                                                               --------------  ----- \n",
      " 0   Your Academic Stage                                                  139 non-null    object\n",
      " 1   Peer pressure                                                        139 non-null    int64 \n",
      " 2   Academic pressure from your home                                     139 non-null    int64 \n",
      " 3   Study Environment                                                    139 non-null    object\n",
      " 4   Do you have any bad habits like smoking, drinking on a daily basis?  139 non-null    object\n",
      " 5   What would you rate the academic  competition in your student life   139 non-null    int64 \n",
      " 6   Rate your academic stress index                                      139 non-null    int64 \n",
      "dtypes: int64(4), object(3)\n",
      "memory usage: 8.7+ KB\n"
     ]
    }
   ],
   "source": [
    "df.info()"
   ]
  },
  {
   "cell_type": "code",
   "execution_count": 177,
   "id": "ed8abce9-a853-4b03-a1b6-032c7854c4f5",
   "metadata": {},
   "outputs": [
    {
     "data": {
      "text/html": [
       "<div>\n",
       "<style scoped>\n",
       "    .dataframe tbody tr th:only-of-type {\n",
       "        vertical-align: middle;\n",
       "    }\n",
       "\n",
       "    .dataframe tbody tr th {\n",
       "        vertical-align: top;\n",
       "    }\n",
       "\n",
       "    .dataframe thead th {\n",
       "        text-align: right;\n",
       "    }\n",
       "</style>\n",
       "<table border=\"1\" class=\"dataframe\">\n",
       "  <thead>\n",
       "    <tr style=\"text-align: right;\">\n",
       "      <th></th>\n",
       "      <th>Your Academic Stage</th>\n",
       "      <th>Peer pressure</th>\n",
       "      <th>Academic pressure from your home</th>\n",
       "      <th>Study Environment</th>\n",
       "      <th>Do you have any bad habits like smoking, drinking on a daily basis?</th>\n",
       "      <th>What would you rate the academic  competition in your student life</th>\n",
       "      <th>Rate your academic stress index</th>\n",
       "    </tr>\n",
       "  </thead>\n",
       "  <tbody>\n",
       "    <tr>\n",
       "      <th>0</th>\n",
       "      <td>undergraduate</td>\n",
       "      <td>4</td>\n",
       "      <td>5</td>\n",
       "      <td>Noisy</td>\n",
       "      <td>No</td>\n",
       "      <td>3</td>\n",
       "      <td>5</td>\n",
       "    </tr>\n",
       "    <tr>\n",
       "      <th>1</th>\n",
       "      <td>undergraduate</td>\n",
       "      <td>3</td>\n",
       "      <td>4</td>\n",
       "      <td>Peaceful</td>\n",
       "      <td>No</td>\n",
       "      <td>3</td>\n",
       "      <td>3</td>\n",
       "    </tr>\n",
       "  </tbody>\n",
       "</table>\n",
       "</div>"
      ],
      "text/plain": [
       "  Your Academic Stage  Peer pressure  Academic pressure from your home  \\\n",
       "0       undergraduate              4                                 5   \n",
       "1       undergraduate              3                                 4   \n",
       "\n",
       "  Study Environment  \\\n",
       "0             Noisy   \n",
       "1          Peaceful   \n",
       "\n",
       "  Do you have any bad habits like smoking, drinking on a daily basis?  \\\n",
       "0                                                 No                    \n",
       "1                                                 No                    \n",
       "\n",
       "   What would you rate the academic  competition in your student life  \\\n",
       "0                                                  3                    \n",
       "1                                                  3                    \n",
       "\n",
       "   Rate your academic stress index   \n",
       "0                                 5  \n",
       "1                                 3  "
      ]
     },
     "execution_count": 177,
     "metadata": {},
     "output_type": "execute_result"
    }
   ],
   "source": [
    "df.head(2)"
   ]
  },
  {
   "cell_type": "code",
   "execution_count": 178,
   "id": "4bcfa713-ae8f-422a-9083-55ebb1bf1073",
   "metadata": {},
   "outputs": [],
   "source": [
    "from sklearn.preprocessing import OrdinalEncoder, OneHotEncoder"
   ]
  },
  {
   "cell_type": "code",
   "execution_count": 179,
   "id": "0f56b9c2-7bbe-41e2-a09f-73a60506f181",
   "metadata": {},
   "outputs": [],
   "source": [
    "#Ordinal Encoder for Academic Stage, Maybe Bad Habits"
   ]
  },
  {
   "cell_type": "code",
   "execution_count": 180,
   "id": "b4bad891-39e9-4b9a-9da0-ca4378a07335",
   "metadata": {},
   "outputs": [],
   "source": [
    "#One hot enocder for  study environement"
   ]
  },
  {
   "cell_type": "code",
   "execution_count": 181,
   "id": "61fe2f2d-5bb6-489f-a755-c956834d9a1a",
   "metadata": {},
   "outputs": [
    {
     "name": "stdout",
     "output_type": "stream",
     "text": [
      "['undergraduate' 'high school' 'post-graduate']\n"
     ]
    }
   ],
   "source": [
    "unique_academic_stages = df['Your Academic Stage'].unique()\n",
    "print(unique_academic_stages)"
   ]
  },
  {
   "cell_type": "code",
   "execution_count": 182,
   "id": "f8790774-6479-4726-85a6-fe9e7c780763",
   "metadata": {},
   "outputs": [],
   "source": [
    "#unique_study_envs = df['Study Environment'].unique()\n",
    "#print(unique_study_envs)"
   ]
  },
  {
   "cell_type": "code",
   "execution_count": 183,
   "id": "578d5a18-c904-4453-8b84-94912818920b",
   "metadata": {},
   "outputs": [],
   "source": [
    "encoder_for_academic = OrdinalEncoder(categories=[['high school', 'undergraduate', 'post-graduate']])"
   ]
  },
  {
   "cell_type": "code",
   "execution_count": 184,
   "id": "a8878847-b8e7-4f8b-93c8-646bccef76a1",
   "metadata": {},
   "outputs": [],
   "source": [
    "df['Your Academic Stage'] = encoder_for_academic.fit_transform(df[['Your Academic Stage']]).astype(int).ravel()"
   ]
  },
  {
   "cell_type": "code",
   "execution_count": 185,
   "id": "b732322f-1a2d-4442-821d-75da2f399588",
   "metadata": {},
   "outputs": [
    {
     "name": "stdout",
     "output_type": "stream",
     "text": [
      "<class 'pandas.core.frame.DataFrame'>\n",
      "Index: 139 entries, 0 to 139\n",
      "Data columns (total 7 columns):\n",
      " #   Column                                                               Non-Null Count  Dtype \n",
      "---  ------                                                               --------------  ----- \n",
      " 0   Your Academic Stage                                                  139 non-null    int64 \n",
      " 1   Peer pressure                                                        139 non-null    int64 \n",
      " 2   Academic pressure from your home                                     139 non-null    int64 \n",
      " 3   Study Environment                                                    139 non-null    object\n",
      " 4   Do you have any bad habits like smoking, drinking on a daily basis?  139 non-null    object\n",
      " 5   What would you rate the academic  competition in your student life   139 non-null    int64 \n",
      " 6   Rate your academic stress index                                      139 non-null    int64 \n",
      "dtypes: int64(5), object(2)\n",
      "memory usage: 8.7+ KB\n"
     ]
    }
   ],
   "source": [
    "df.info()"
   ]
  },
  {
   "cell_type": "code",
   "execution_count": 186,
   "id": "432ff354-8051-4e36-899e-f5fc14f903a6",
   "metadata": {},
   "outputs": [
    {
     "data": {
      "text/html": [
       "<div>\n",
       "<style scoped>\n",
       "    .dataframe tbody tr th:only-of-type {\n",
       "        vertical-align: middle;\n",
       "    }\n",
       "\n",
       "    .dataframe tbody tr th {\n",
       "        vertical-align: top;\n",
       "    }\n",
       "\n",
       "    .dataframe thead th {\n",
       "        text-align: right;\n",
       "    }\n",
       "</style>\n",
       "<table border=\"1\" class=\"dataframe\">\n",
       "  <thead>\n",
       "    <tr style=\"text-align: right;\">\n",
       "      <th></th>\n",
       "      <th>Your Academic Stage</th>\n",
       "      <th>Peer pressure</th>\n",
       "      <th>Academic pressure from your home</th>\n",
       "      <th>Study Environment</th>\n",
       "      <th>Do you have any bad habits like smoking, drinking on a daily basis?</th>\n",
       "      <th>What would you rate the academic  competition in your student life</th>\n",
       "      <th>Rate your academic stress index</th>\n",
       "    </tr>\n",
       "  </thead>\n",
       "  <tbody>\n",
       "    <tr>\n",
       "      <th>0</th>\n",
       "      <td>1</td>\n",
       "      <td>4</td>\n",
       "      <td>5</td>\n",
       "      <td>Noisy</td>\n",
       "      <td>No</td>\n",
       "      <td>3</td>\n",
       "      <td>5</td>\n",
       "    </tr>\n",
       "    <tr>\n",
       "      <th>1</th>\n",
       "      <td>1</td>\n",
       "      <td>3</td>\n",
       "      <td>4</td>\n",
       "      <td>Peaceful</td>\n",
       "      <td>No</td>\n",
       "      <td>3</td>\n",
       "      <td>3</td>\n",
       "    </tr>\n",
       "    <tr>\n",
       "      <th>2</th>\n",
       "      <td>1</td>\n",
       "      <td>1</td>\n",
       "      <td>1</td>\n",
       "      <td>Peaceful</td>\n",
       "      <td>No</td>\n",
       "      <td>2</td>\n",
       "      <td>4</td>\n",
       "    </tr>\n",
       "    <tr>\n",
       "      <th>3</th>\n",
       "      <td>1</td>\n",
       "      <td>3</td>\n",
       "      <td>2</td>\n",
       "      <td>Peaceful</td>\n",
       "      <td>No</td>\n",
       "      <td>4</td>\n",
       "      <td>3</td>\n",
       "    </tr>\n",
       "    <tr>\n",
       "      <th>4</th>\n",
       "      <td>1</td>\n",
       "      <td>3</td>\n",
       "      <td>3</td>\n",
       "      <td>Peaceful</td>\n",
       "      <td>No</td>\n",
       "      <td>4</td>\n",
       "      <td>5</td>\n",
       "    </tr>\n",
       "  </tbody>\n",
       "</table>\n",
       "</div>"
      ],
      "text/plain": [
       "   Your Academic Stage  Peer pressure  Academic pressure from your home  \\\n",
       "0                    1              4                                 5   \n",
       "1                    1              3                                 4   \n",
       "2                    1              1                                 1   \n",
       "3                    1              3                                 2   \n",
       "4                    1              3                                 3   \n",
       "\n",
       "  Study Environment  \\\n",
       "0             Noisy   \n",
       "1          Peaceful   \n",
       "2          Peaceful   \n",
       "3          Peaceful   \n",
       "4          Peaceful   \n",
       "\n",
       "  Do you have any bad habits like smoking, drinking on a daily basis?  \\\n",
       "0                                                 No                    \n",
       "1                                                 No                    \n",
       "2                                                 No                    \n",
       "3                                                 No                    \n",
       "4                                                 No                    \n",
       "\n",
       "   What would you rate the academic  competition in your student life  \\\n",
       "0                                                  3                    \n",
       "1                                                  3                    \n",
       "2                                                  2                    \n",
       "3                                                  4                    \n",
       "4                                                  4                    \n",
       "\n",
       "   Rate your academic stress index   \n",
       "0                                 5  \n",
       "1                                 3  \n",
       "2                                 4  \n",
       "3                                 3  \n",
       "4                                 5  "
      ]
     },
     "execution_count": 186,
     "metadata": {},
     "output_type": "execute_result"
    }
   ],
   "source": [
    "df.head(5)"
   ]
  },
  {
   "cell_type": "code",
   "execution_count": 187,
   "id": "d0e8ac32-baad-43e4-9399-904ea6a6f355",
   "metadata": {},
   "outputs": [
    {
     "name": "stdout",
     "output_type": "stream",
     "text": [
      "[1 0 2]\n"
     ]
    }
   ],
   "source": [
    "print(df['Your Academic Stage'].unique())"
   ]
  },
  {
   "cell_type": "markdown",
   "id": "3e8f0285-a05a-4f84-870d-7504fb54eeb1",
   "metadata": {},
   "source": [
    "### Encoding Study Environment"
   ]
  },
  {
   "cell_type": "code",
   "execution_count": 188,
   "id": "48d8c28d-69e8-40e9-99bd-847080660d28",
   "metadata": {},
   "outputs": [
    {
     "name": "stdout",
     "output_type": "stream",
     "text": [
      "['Noisy' 'Peaceful' 'disrupted']\n"
     ]
    }
   ],
   "source": [
    "print(df['Study Environment'].unique())"
   ]
  },
  {
   "cell_type": "code",
   "execution_count": 189,
   "id": "018b4e2f-8be3-43ba-969b-ace2d12a74ca",
   "metadata": {},
   "outputs": [],
   "source": [
    "encoder_for_studyenv = OrdinalEncoder(categories=[['Peaceful', 'disrupted', 'Noisy']])"
   ]
  },
  {
   "cell_type": "code",
   "execution_count": 190,
   "id": "d10d76a7-85ab-432c-a111-1be24c649883",
   "metadata": {},
   "outputs": [],
   "source": [
    "df['Study Environment'] = encoder_for_studyenv.fit_transform(df[['Study Environment']]).astype(int).ravel()"
   ]
  },
  {
   "cell_type": "code",
   "execution_count": 191,
   "id": "a8ff4125-0071-4cb7-9c42-b6c0294b3070",
   "metadata": {},
   "outputs": [
    {
     "data": {
      "text/html": [
       "<div>\n",
       "<style scoped>\n",
       "    .dataframe tbody tr th:only-of-type {\n",
       "        vertical-align: middle;\n",
       "    }\n",
       "\n",
       "    .dataframe tbody tr th {\n",
       "        vertical-align: top;\n",
       "    }\n",
       "\n",
       "    .dataframe thead th {\n",
       "        text-align: right;\n",
       "    }\n",
       "</style>\n",
       "<table border=\"1\" class=\"dataframe\">\n",
       "  <thead>\n",
       "    <tr style=\"text-align: right;\">\n",
       "      <th></th>\n",
       "      <th>Your Academic Stage</th>\n",
       "      <th>Peer pressure</th>\n",
       "      <th>Academic pressure from your home</th>\n",
       "      <th>Study Environment</th>\n",
       "      <th>Do you have any bad habits like smoking, drinking on a daily basis?</th>\n",
       "      <th>What would you rate the academic  competition in your student life</th>\n",
       "      <th>Rate your academic stress index</th>\n",
       "    </tr>\n",
       "  </thead>\n",
       "  <tbody>\n",
       "    <tr>\n",
       "      <th>0</th>\n",
       "      <td>1</td>\n",
       "      <td>4</td>\n",
       "      <td>5</td>\n",
       "      <td>2</td>\n",
       "      <td>No</td>\n",
       "      <td>3</td>\n",
       "      <td>5</td>\n",
       "    </tr>\n",
       "    <tr>\n",
       "      <th>1</th>\n",
       "      <td>1</td>\n",
       "      <td>3</td>\n",
       "      <td>4</td>\n",
       "      <td>0</td>\n",
       "      <td>No</td>\n",
       "      <td>3</td>\n",
       "      <td>3</td>\n",
       "    </tr>\n",
       "    <tr>\n",
       "      <th>2</th>\n",
       "      <td>1</td>\n",
       "      <td>1</td>\n",
       "      <td>1</td>\n",
       "      <td>0</td>\n",
       "      <td>No</td>\n",
       "      <td>2</td>\n",
       "      <td>4</td>\n",
       "    </tr>\n",
       "    <tr>\n",
       "      <th>3</th>\n",
       "      <td>1</td>\n",
       "      <td>3</td>\n",
       "      <td>2</td>\n",
       "      <td>0</td>\n",
       "      <td>No</td>\n",
       "      <td>4</td>\n",
       "      <td>3</td>\n",
       "    </tr>\n",
       "    <tr>\n",
       "      <th>4</th>\n",
       "      <td>1</td>\n",
       "      <td>3</td>\n",
       "      <td>3</td>\n",
       "      <td>0</td>\n",
       "      <td>No</td>\n",
       "      <td>4</td>\n",
       "      <td>5</td>\n",
       "    </tr>\n",
       "  </tbody>\n",
       "</table>\n",
       "</div>"
      ],
      "text/plain": [
       "   Your Academic Stage  Peer pressure  Academic pressure from your home  \\\n",
       "0                    1              4                                 5   \n",
       "1                    1              3                                 4   \n",
       "2                    1              1                                 1   \n",
       "3                    1              3                                 2   \n",
       "4                    1              3                                 3   \n",
       "\n",
       "   Study Environment  \\\n",
       "0                  2   \n",
       "1                  0   \n",
       "2                  0   \n",
       "3                  0   \n",
       "4                  0   \n",
       "\n",
       "  Do you have any bad habits like smoking, drinking on a daily basis?  \\\n",
       "0                                                 No                    \n",
       "1                                                 No                    \n",
       "2                                                 No                    \n",
       "3                                                 No                    \n",
       "4                                                 No                    \n",
       "\n",
       "   What would you rate the academic  competition in your student life  \\\n",
       "0                                                  3                    \n",
       "1                                                  3                    \n",
       "2                                                  2                    \n",
       "3                                                  4                    \n",
       "4                                                  4                    \n",
       "\n",
       "   Rate your academic stress index   \n",
       "0                                 5  \n",
       "1                                 3  \n",
       "2                                 4  \n",
       "3                                 3  \n",
       "4                                 5  "
      ]
     },
     "execution_count": 191,
     "metadata": {},
     "output_type": "execute_result"
    }
   ],
   "source": [
    "df.head(5)"
   ]
  },
  {
   "cell_type": "markdown",
   "id": "da0fba88-bf22-4b0f-8a2b-308227aecb84",
   "metadata": {},
   "source": [
    "### Encoding Bad Habits"
   ]
  },
  {
   "cell_type": "code",
   "execution_count": 192,
   "id": "f4f3a525-5449-4431-9903-2ad28b34297c",
   "metadata": {},
   "outputs": [
    {
     "name": "stdout",
     "output_type": "stream",
     "text": [
      "['No' 'prefer not to say' 'Yes']\n"
     ]
    }
   ],
   "source": [
    "print(df['Do you have any bad habits like smoking, drinking on a daily basis?'].unique())"
   ]
  },
  {
   "cell_type": "code",
   "execution_count": 193,
   "id": "927259db-3212-471b-a6e2-04729a739717",
   "metadata": {},
   "outputs": [],
   "source": [
    "df['Bad_Habits_Encoded'] = df['Do you have any bad habits like smoking, drinking on a daily basis?'].str.strip().str.lower().map({\n",
    "    'yes': 1,\n",
    "    'no': 0,\n",
    "    'prefer not to say': -1  \n",
    "})"
   ]
  },
  {
   "cell_type": "code",
   "execution_count": 194,
   "id": "78bb6bc4-aba9-41c8-bd6b-49eb2912b80b",
   "metadata": {},
   "outputs": [
    {
     "data": {
      "text/html": [
       "<div>\n",
       "<style scoped>\n",
       "    .dataframe tbody tr th:only-of-type {\n",
       "        vertical-align: middle;\n",
       "    }\n",
       "\n",
       "    .dataframe tbody tr th {\n",
       "        vertical-align: top;\n",
       "    }\n",
       "\n",
       "    .dataframe thead th {\n",
       "        text-align: right;\n",
       "    }\n",
       "</style>\n",
       "<table border=\"1\" class=\"dataframe\">\n",
       "  <thead>\n",
       "    <tr style=\"text-align: right;\">\n",
       "      <th></th>\n",
       "      <th>Your Academic Stage</th>\n",
       "      <th>Peer pressure</th>\n",
       "      <th>Academic pressure from your home</th>\n",
       "      <th>Study Environment</th>\n",
       "      <th>Do you have any bad habits like smoking, drinking on a daily basis?</th>\n",
       "      <th>What would you rate the academic  competition in your student life</th>\n",
       "      <th>Rate your academic stress index</th>\n",
       "      <th>Bad_Habits_Encoded</th>\n",
       "    </tr>\n",
       "  </thead>\n",
       "  <tbody>\n",
       "    <tr>\n",
       "      <th>0</th>\n",
       "      <td>1</td>\n",
       "      <td>4</td>\n",
       "      <td>5</td>\n",
       "      <td>2</td>\n",
       "      <td>No</td>\n",
       "      <td>3</td>\n",
       "      <td>5</td>\n",
       "      <td>0</td>\n",
       "    </tr>\n",
       "    <tr>\n",
       "      <th>1</th>\n",
       "      <td>1</td>\n",
       "      <td>3</td>\n",
       "      <td>4</td>\n",
       "      <td>0</td>\n",
       "      <td>No</td>\n",
       "      <td>3</td>\n",
       "      <td>3</td>\n",
       "      <td>0</td>\n",
       "    </tr>\n",
       "    <tr>\n",
       "      <th>2</th>\n",
       "      <td>1</td>\n",
       "      <td>1</td>\n",
       "      <td>1</td>\n",
       "      <td>0</td>\n",
       "      <td>No</td>\n",
       "      <td>2</td>\n",
       "      <td>4</td>\n",
       "      <td>0</td>\n",
       "    </tr>\n",
       "    <tr>\n",
       "      <th>3</th>\n",
       "      <td>1</td>\n",
       "      <td>3</td>\n",
       "      <td>2</td>\n",
       "      <td>0</td>\n",
       "      <td>No</td>\n",
       "      <td>4</td>\n",
       "      <td>3</td>\n",
       "      <td>0</td>\n",
       "    </tr>\n",
       "    <tr>\n",
       "      <th>4</th>\n",
       "      <td>1</td>\n",
       "      <td>3</td>\n",
       "      <td>3</td>\n",
       "      <td>0</td>\n",
       "      <td>No</td>\n",
       "      <td>4</td>\n",
       "      <td>5</td>\n",
       "      <td>0</td>\n",
       "    </tr>\n",
       "  </tbody>\n",
       "</table>\n",
       "</div>"
      ],
      "text/plain": [
       "   Your Academic Stage  Peer pressure  Academic pressure from your home  \\\n",
       "0                    1              4                                 5   \n",
       "1                    1              3                                 4   \n",
       "2                    1              1                                 1   \n",
       "3                    1              3                                 2   \n",
       "4                    1              3                                 3   \n",
       "\n",
       "   Study Environment  \\\n",
       "0                  2   \n",
       "1                  0   \n",
       "2                  0   \n",
       "3                  0   \n",
       "4                  0   \n",
       "\n",
       "  Do you have any bad habits like smoking, drinking on a daily basis?  \\\n",
       "0                                                 No                    \n",
       "1                                                 No                    \n",
       "2                                                 No                    \n",
       "3                                                 No                    \n",
       "4                                                 No                    \n",
       "\n",
       "   What would you rate the academic  competition in your student life  \\\n",
       "0                                                  3                    \n",
       "1                                                  3                    \n",
       "2                                                  2                    \n",
       "3                                                  4                    \n",
       "4                                                  4                    \n",
       "\n",
       "   Rate your academic stress index   Bad_Habits_Encoded  \n",
       "0                                 5                   0  \n",
       "1                                 3                   0  \n",
       "2                                 4                   0  \n",
       "3                                 3                   0  \n",
       "4                                 5                   0  "
      ]
     },
     "execution_count": 194,
     "metadata": {},
     "output_type": "execute_result"
    }
   ],
   "source": [
    "df.head(5)"
   ]
  },
  {
   "cell_type": "markdown",
   "id": "63794fd7-48f9-44b6-800f-8d489d8957b9",
   "metadata": {},
   "source": [
    "## Model Development"
   ]
  },
  {
   "cell_type": "code",
   "execution_count": null,
   "id": "c7b66319-2c46-4061-a86d-22272a22d8f5",
   "metadata": {},
   "outputs": [],
   "source": []
  }
 ],
 "metadata": {
  "kernelspec": {
   "display_name": "Python 3 (ipykernel)",
   "language": "python",
   "name": "python3"
  },
  "language_info": {
   "codemirror_mode": {
    "name": "ipython",
    "version": 3
   },
   "file_extension": ".py",
   "mimetype": "text/x-python",
   "name": "python",
   "nbconvert_exporter": "python",
   "pygments_lexer": "ipython3",
   "version": "3.12.0"
  }
 },
 "nbformat": 4,
 "nbformat_minor": 5
}
